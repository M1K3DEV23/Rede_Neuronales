{
 "cells": [
  {
   "cell_type": "markdown",
   "metadata": {},
   "source": [
    "# Diemnsiones"
   ]
  },
  {
   "cell_type": "code",
   "execution_count": 1,
   "metadata": {},
   "outputs": [],
   "source": [
    "import numpy as np"
   ]
  },
  {
   "cell_type": "markdown",
   "metadata": {},
   "source": [
    "## Escalar\n"
   ]
  },
  {
   "cell_type": "code",
   "execution_count": 4,
   "metadata": {},
   "outputs": [
    {
     "name": "stdout",
     "output_type": "stream",
     "text": [
      "Escalar: 42 - shape: () dims: 0\n"
     ]
    }
   ],
   "source": [
    "x = np.array(42)\n",
    "print(\"Escalar:\", x, \"- shape:\", x.shape, \"dims:\", x.ndim)"
   ]
  },
  {
   "cell_type": "markdown",
   "metadata": {},
   "source": [
    "## Vector"
   ]
  },
  {
   "cell_type": "code",
   "execution_count": 3,
   "metadata": {},
   "outputs": [
    {
     "name": "stdout",
     "output_type": "stream",
     "text": [
      "Vector: [42  3  5  3  6  7] - shape: (6,) dims: 1\n"
     ]
    }
   ],
   "source": [
    "x = np.array([42, 3, 5, 3, 6, 7])\n",
    "print(\"Vector:\", x, \"- shape:\", x.shape, \"dims:\", x.ndim)"
   ]
  },
  {
   "cell_type": "markdown",
   "metadata": {},
   "source": [
    "## Matriz\n"
   ]
  },
  {
   "cell_type": "code",
   "execution_count": 6,
   "metadata": {},
   "outputs": [
    {
     "name": "stdout",
     "output_type": "stream",
     "text": [
      "Matriz: [[ 42   3   5   3   6   7]\n",
      " [ 66  54   5 343   6   7]] - shape: (2, 6) dims: 2\n"
     ]
    }
   ],
   "source": [
    "x = np.array([\n",
    "    [42, 3, 5, 3, 6, 7],\n",
    "    [66, 54, 5, 343, 6, 7]\n",
    "])\n",
    "print(\"Matriz:\", x, \"- shape:\", x.shape, \"dims:\", x.ndim)"
   ]
  },
  {
   "cell_type": "markdown",
   "metadata": {},
   "source": [
    "## Tensor"
   ]
  },
  {
   "cell_type": "code",
   "execution_count": 9,
   "metadata": {},
   "outputs": [
    {
     "name": "stdout",
     "output_type": "stream",
     "text": [
      "Tensor: [[[ 1  2  3  4  5]\n",
      "  [ 6  7  8  9 10]]\n",
      "\n",
      " [[ 1  2  3  4  5]\n",
      "  [ 6  7  8  9 10]]\n",
      "\n",
      " [[ 1  2  3  4  5]\n",
      "  [ 6  7  8  9 10]]] - shape: (3, 2, 5) dims: 3\n"
     ]
    }
   ],
   "source": [
    "x = np.array([[[1, 2, 3, 4, 5],\n",
    "               [6, 7, 8, 9, 10]],\n",
    "              [[1, 2, 3, 4, 5],\n",
    "               [6, 7, 8, 9, 10]],\n",
    "              [[1, 2, 3, 4, 5],\n",
    "               [6, 7, 8, 9, 10]]\n",
    "              ])\n",
    "print(\"Tensor:\", x, \"- shape:\", x.shape, \"dims:\", x.ndim)"
   ]
  },
  {
   "cell_type": "markdown",
   "metadata": {},
   "source": [
    "# Reshape"
   ]
  },
  {
   "cell_type": "code",
   "execution_count": 12,
   "metadata": {},
   "outputs": [
    {
     "name": "stdout",
     "output_type": "stream",
     "text": [
      "[[0 1]\n",
      " [2 3]\n",
      " [4 5]\n",
      " [6 7]] (4, 2)\n",
      "\n",
      "\n",
      "[[0]\n",
      " [1]\n",
      " [2]\n",
      " [3]\n",
      " [4]\n",
      " [5]\n",
      " [6]\n",
      " [7]] (8, 1)\n",
      "\n",
      "[[0 1 2 3]\n",
      " [4 5 6 7]] (2, 4)\n",
      "\n",
      "original:\n",
      "[[0 1]\n",
      " [2 3]\n",
      " [4 5]\n",
      " [6 7]]\n",
      "transpose:\n",
      "[[0 2 4 6]\n",
      " [1 3 5 7]]\n"
     ]
    }
   ],
   "source": [
    "x = np.array([[0, 1],\n",
    "              [2, 3],\n",
    "              [4, 5],\n",
    "              [6, 7]])\n",
    "\n",
    "print(x, x.shape)\n",
    "x = x.reshape(8, 1)\n",
    "print('\\n')\n",
    "print(x, x.shape)\n",
    "x = x.reshape(2, 4)\n",
    "print('')\n",
    "print(x, x.shape)\n",
    "print('')\n",
    "x = np.array([[0, 1],\n",
    "              [2, 3],\n",
    "              [4, 5],\n",
    "              [6, 7]])\n",
    "xt = x.T\n",
    "print(\"original:\")\n",
    "print(x)\n",
    "print(\"transpose:\")\n",
    "print(xt)"
   ]
  }
 ],
 "metadata": {
  "kernelspec": {
   "display_name": ".venv",
   "language": "python",
   "name": "python3"
  },
  "language_info": {
   "codemirror_mode": {
    "name": "ipython",
    "version": 3
   },
   "file_extension": ".py",
   "mimetype": "text/x-python",
   "name": "python",
   "nbconvert_exporter": "python",
   "pygments_lexer": "ipython3",
   "version": "3.10.12"
  }
 },
 "nbformat": 4,
 "nbformat_minor": 2
}
