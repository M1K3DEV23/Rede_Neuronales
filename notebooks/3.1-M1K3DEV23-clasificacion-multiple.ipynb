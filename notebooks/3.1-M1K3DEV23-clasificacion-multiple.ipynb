{
 "cells": [
  {
   "cell_type": "markdown",
   "metadata": {},
   "source": [
    "# Resolviendo un problema de clasificación multiple\n",
    "\n",
    "Este problema en esencia es MUY similar al problema anterior, simplemente vamos a explicar en qué consiste este nuevo problema de clasificación y solamente voy a poner los puntos diferenciadores respecto al caso de estudio anterior.\n",
    "\n",
    "En esta ocasión el problema consiste en entrenar a un modelo de deep learning que sea capaz de diferenciar entre 46 tópicos diferentes relacionados con temas de noticias. Para ello vamos a utilizar el dataset Reuters.\n",
    "\n",
    "Este dataset cuenta con propiedades similares al dataset anterior, también está representado como label encoding y por ende utilizaremos las mismas técnicas de preprocesamiento de datos para transformarlo en one hot encoding. Sin embargo, el hecho de que la clasificación sea multiple, genera un par de diferencias importantes respecto a la clasificación binaria. Veamos los pasos a continuación.\n",
    "\n"
   ]
  },
  {
   "cell_type": "code",
   "execution_count": 195,
   "metadata": {},
   "outputs": [],
   "source": [
    "import numpy as np\n",
    "from keras import layers, models, regularizers\n",
    "from keras.datasets import reuters\n",
    "from keras.utils import to_categorical\n",
    "import matplotlib.pyplot as plt"
   ]
  },
  {
   "cell_type": "markdown",
   "metadata": {},
   "source": [
    "Cargando Dataset"
   ]
  },
  {
   "cell_type": "code",
   "execution_count": 196,
   "metadata": {},
   "outputs": [],
   "source": [
    "(train_data, train_labels), (test_data, test_labels) = reuters.load_data(num_words=10_000)"
   ]
  },
  {
   "cell_type": "code",
   "execution_count": 197,
   "metadata": {},
   "outputs": [
    {
     "data": {
      "text/plain": [
       "[1,\n",
       " 2,\n",
       " 2,\n",
       " 8,\n",
       " 43,\n",
       " 10,\n",
       " 447,\n",
       " 5,\n",
       " 25,\n",
       " 207,\n",
       " 270,\n",
       " 5,\n",
       " 3095,\n",
       " 111,\n",
       " 16,\n",
       " 369,\n",
       " 186,\n",
       " 90,\n",
       " 67,\n",
       " 7,\n",
       " 89,\n",
       " 5,\n",
       " 19,\n",
       " 102,\n",
       " 6,\n",
       " 19,\n",
       " 124,\n",
       " 15,\n",
       " 90,\n",
       " 67,\n",
       " 84,\n",
       " 22,\n",
       " 482,\n",
       " 26,\n",
       " 7,\n",
       " 48,\n",
       " 4,\n",
       " 49,\n",
       " 8,\n",
       " 864,\n",
       " 39,\n",
       " 209,\n",
       " 154,\n",
       " 6,\n",
       " 151,\n",
       " 6,\n",
       " 83,\n",
       " 11,\n",
       " 15,\n",
       " 22,\n",
       " 155,\n",
       " 11,\n",
       " 15,\n",
       " 7,\n",
       " 48,\n",
       " 9,\n",
       " 4579,\n",
       " 1005,\n",
       " 504,\n",
       " 6,\n",
       " 258,\n",
       " 6,\n",
       " 272,\n",
       " 11,\n",
       " 15,\n",
       " 22,\n",
       " 134,\n",
       " 44,\n",
       " 11,\n",
       " 15,\n",
       " 16,\n",
       " 8,\n",
       " 197,\n",
       " 1245,\n",
       " 90,\n",
       " 67,\n",
       " 52,\n",
       " 29,\n",
       " 209,\n",
       " 30,\n",
       " 32,\n",
       " 132,\n",
       " 6,\n",
       " 109,\n",
       " 15,\n",
       " 17,\n",
       " 12]"
      ]
     },
     "execution_count": 197,
     "metadata": {},
     "output_type": "execute_result"
    }
   ],
   "source": [
    "train_data[0]"
   ]
  },
  {
   "cell_type": "code",
   "execution_count": 198,
   "metadata": {},
   "outputs": [],
   "source": [
    "def convert_number_to_word(example):\n",
    "  word_index = reuters.get_word_index()\n",
    "  word_index = dict([(value, key) for (key, value) in word_index.items()])\n",
    "  print(' '.join([word_index.get(i - 3, 'None') for i in example]))"
   ]
  },
  {
   "cell_type": "code",
   "execution_count": 199,
   "metadata": {},
   "outputs": [
    {
     "name": "stdout",
     "output_type": "stream",
     "text": [
      "None None None said as a result of its december acquisition of space co it expects earnings per share in 1987 of 1 15 to 1 30 dlrs per share up from 70 cts in 1986 the company said pretax net should rise to nine to 10 mln dlrs from six mln dlrs in 1986 and rental operation revenues to 19 to 22 mln dlrs from 12 5 mln dlrs it said cash flow per share this year should be 2 50 to three dlrs reuter 3\n"
     ]
    }
   ],
   "source": [
    "convert_number_to_word(train_data[0])"
   ]
  },
  {
   "cell_type": "markdown",
   "metadata": {},
   "source": [
    "## Normalizando Datos"
   ]
  },
  {
   "cell_type": "code",
   "execution_count": 200,
   "metadata": {},
   "outputs": [
    {
     "name": "stdout",
     "output_type": "stream",
     "text": [
      "3 ()\n",
      "[0. 0. 0. 1. 0. 0. 0. 0. 0. 0. 0. 0. 0. 0. 0. 0. 0. 0. 0. 0. 0. 0. 0. 0.\n",
      " 0. 0. 0. 0. 0. 0. 0. 0. 0. 0. 0. 0. 0. 0. 0. 0. 0. 0. 0. 0. 0. 0.] (46,)\n"
     ]
    }
   ],
   "source": [
    "def one_hot_encoding(sequences, dim=10_000):\n",
    "    results = np.zeros((len(sequences), dim))\n",
    "\n",
    "    for i, sequences in enumerate(sequences):\n",
    "        results[i, sequences] = 1\n",
    "    return results\n",
    "\n",
    "\n",
    "x_train = one_hot_encoding(train_data)\n",
    "x_test = one_hot_encoding(test_data)\n",
    "\n",
    "# Observamos como luce una etiqueta de y_train\n",
    "print(train_labels[0], train_labels[0].shape)\n",
    "\n",
    "# Debemos transformar esta salida en una salida de Clasificación multiple, esto es lo mismo que hicimos en el problema de la clasificación de numeros escritos a mano del dataset MNIST\n",
    "y_train = to_categorical(train_labels)\n",
    "y_test = to_categorical(test_labels)\n",
    "\n",
    "print(y_train[0], y_train[0].shape)"
   ]
  },
  {
   "cell_type": "markdown",
   "metadata": {},
   "source": [
    "Definiendo la Arquitectura de nuestra red"
   ]
  },
  {
   "cell_type": "code",
   "execution_count": 201,
   "metadata": {},
   "outputs": [],
   "source": [
    "def architecture(model: models.Sequential, input_shape: tuple, n_classes: int) -> models.Sequential:\n",
    "    model.add(layers.Dense(128, activation=\"relu\", input_shape=input_shape, kernel_regularizer=regularizers.l2(0.001)))\n",
    "    # model.add(layers.BatchNormalization())\n",
    "    model.add(layers.Dropout(0.3))\n",
    "    model.add(layers.Dense(128, activation=\"relu\", kernel_regularizer=regularizers.l2(0.001)))\n",
    "    # model.add(layers.BatchNormalization())\n",
    "    model.add(layers.Dropout(0.3))\n",
    "    # IMPORTANTE: Ahora que nuestro problema es de clasificación MULTIPLE nuestra activación de la capa de predicción\n",
    "    # Es diferente, en este caso usamos softmax, porque nos interesa tener la probabilidad de cada clase a la salida.\n",
    "    model.add(layers.Dense(n_classes, activation=\"softmax\"))\n",
    "    return model\n",
    "\n",
    "\n",
    "model_norm = models.Sequential()\n",
    "model_norm = architecture(model=model_norm, input_shape=(10000, ), n_classes=46)"
   ]
  },
  {
   "cell_type": "markdown",
   "metadata": {},
   "source": [
    "## Entrenamiento del modelo de clasificación multiple"
   ]
  },
  {
   "cell_type": "markdown",
   "metadata": {},
   "source": [
    "Compilando la red"
   ]
  },
  {
   "cell_type": "code",
   "execution_count": 202,
   "metadata": {},
   "outputs": [],
   "source": [
    "# Dado que nuestro problema tiene varias clases, entonces usaremos \"categorical_crossentropy\"\n",
    "# en lugar de \"binary_crossentropy\"\n",
    "model_norm.compile(optimizer=\"adam\", loss=\"categorical_crossentropy\", metrics=\"acc\")"
   ]
  },
  {
   "cell_type": "markdown",
   "metadata": {},
   "source": [
    "Entrenando la red"
   ]
  },
  {
   "cell_type": "code",
   "execution_count": 203,
   "metadata": {},
   "outputs": [
    {
     "name": "stdout",
     "output_type": "stream",
     "text": [
      "Epoch 1/15\n",
      "13/13 [==============================] - 1s 36ms/step - loss: 3.6215 - acc: 0.3884 - val_loss: 2.6419 - val_acc: 0.5451\n",
      "Epoch 2/15\n",
      "13/13 [==============================] - 0s 18ms/step - loss: 2.3163 - acc: 0.5554 - val_loss: 1.8354 - val_acc: 0.6631\n",
      "Epoch 3/15\n",
      "13/13 [==============================] - 0s 16ms/step - loss: 1.7587 - acc: 0.6531 - val_loss: 1.5815 - val_acc: 0.6976\n",
      "Epoch 4/15\n",
      "13/13 [==============================] - 0s 18ms/step - loss: 1.4852 - acc: 0.7123 - val_loss: 1.4295 - val_acc: 0.7358\n",
      "Epoch 5/15\n",
      "13/13 [==============================] - 0s 19ms/step - loss: 1.2870 - acc: 0.7633 - val_loss: 1.3349 - val_acc: 0.7647\n",
      "Epoch 6/15\n",
      "13/13 [==============================] - 0s 17ms/step - loss: 1.1348 - acc: 0.7975 - val_loss: 1.2784 - val_acc: 0.7714\n",
      "Epoch 7/15\n",
      "13/13 [==============================] - 0s 17ms/step - loss: 1.0108 - acc: 0.8265 - val_loss: 1.2414 - val_acc: 0.7900\n",
      "Epoch 8/15\n",
      "13/13 [==============================] - 0s 17ms/step - loss: 0.9257 - acc: 0.8492 - val_loss: 1.2233 - val_acc: 0.7892\n",
      "Epoch 9/15\n",
      "13/13 [==============================] - 0s 18ms/step - loss: 0.8477 - acc: 0.8732 - val_loss: 1.1940 - val_acc: 0.7948\n",
      "Epoch 10/15\n",
      "13/13 [==============================] - 0s 18ms/step - loss: 0.7817 - acc: 0.8899 - val_loss: 1.1911 - val_acc: 0.7989\n",
      "Epoch 11/15\n",
      "13/13 [==============================] - 0s 20ms/step - loss: 0.7305 - acc: 0.8990 - val_loss: 1.1793 - val_acc: 0.8030\n",
      "Epoch 12/15\n",
      "13/13 [==============================] - 0s 18ms/step - loss: 0.6894 - acc: 0.9119 - val_loss: 1.1677 - val_acc: 0.8096\n",
      "Epoch 13/15\n",
      "13/13 [==============================] - 0s 18ms/step - loss: 0.6564 - acc: 0.9198 - val_loss: 1.1838 - val_acc: 0.8048\n",
      "Epoch 14/15\n",
      "13/13 [==============================] - 0s 17ms/step - loss: 0.6231 - acc: 0.9289 - val_loss: 1.1778 - val_acc: 0.8096\n",
      "Epoch 15/15\n",
      "13/13 [==============================] - 0s 17ms/step - loss: 0.5955 - acc: 0.9365 - val_loss: 1.1822 - val_acc: 0.8130\n"
     ]
    }
   ],
   "source": [
    "history_norm = model_norm.fit(x_train, y_train, epochs=15, batch_size=512, validation_split=0.3)"
   ]
  },
  {
   "cell_type": "markdown",
   "metadata": {},
   "source": [
    "Análisis de resultados:"
   ]
  },
  {
   "cell_type": "code",
   "execution_count": 204,
   "metadata": {},
   "outputs": [
    {
     "name": "stdout",
     "output_type": "stream",
     "text": [
      "71/71 [==============================] - 0s 1ms/step - loss: 1.2356 - acc: 0.7947\n",
      "[1.2356271743774414, 0.7947462201118469]\n"
     ]
    },
    {
     "data": {
      "image/png": "[encoded data removed]",
      "text/plain": [
       "<Figure size 800x500 with 2 Axes>"
      ]
     },
     "metadata": {},
     "output_type": "display_data"
    }
   ],
   "source": [
    "results = model_norm.evaluate(x_test, y_test)\n",
    "print(results)\n",
    "history_dict = history_norm.history\n",
    "loss_values = history_dict['loss']\n",
    "val_loss_values = history_dict['val_loss']\n",
    "acc_values = history_dict[\"acc\"]\n",
    "val_acc_values = history_dict[\"val_acc\"]\n",
    "epoch = range(1, len(loss_values) + 1)\n",
    "\n",
    "fig, (ax1, ax2) = plt.subplots(1, 2, figsize=(8, 5))\n",
    "fig.suptitle(\"Neural Network's Result\")\n",
    "ax1.set_title(\"Loss function over epoch\")\n",
    "ax2.set_title(\"Acc over epoch\")\n",
    "ax1.set(ylabel=\"loss\", xlabel=\"epochs\")\n",
    "ax2.set(ylabel=\"acc\", xlabel=\"epochs\")\n",
    "ax1.plot(epoch, loss_values, 'o-r', label='training')\n",
    "ax1.plot(epoch, val_loss_values, '--', label='validation')\n",
    "ax2.plot(epoch, acc_values, 'o-r', label='training')\n",
    "ax2.plot(epoch, val_acc_values, '--', label='validation')\n",
    "ax1.legend()\n",
    "ax2.legend()\n",
    "plt.show()"
   ]
  },
  {
   "cell_type": "code",
   "execution_count": 205,
   "metadata": {},
   "outputs": [
    {
     "name": "stdout",
     "output_type": "stream",
     "text": [
      "71/71 [==============================] - 0s 1ms/step\n"
     ]
    },
    {
     "data": {
      "text/plain": [
       "array([3.1051215e-05, 4.9045728e-05, 1.3142420e-05, 9.1872305e-01,\n",
       "       7.6804213e-02, 2.0340135e-06, 2.1431028e-05, 2.4294683e-05,\n",
       "       1.0761585e-03, 9.9123579e-05, 2.7071110e-05, 8.1035272e-05,\n",
       "       3.8019607e-05, 2.9395251e-05, 4.7182580e-06, 1.4607252e-05,\n",
       "       8.9857978e-04, 1.8669814e-05, 2.1482676e-05, 2.3716321e-04,\n",
       "       2.3715460e-04, 6.5255468e-04, 3.0270953e-06, 6.6106462e-05,\n",
       "       5.4826423e-06, 2.1236021e-05, 1.5618936e-05, 1.5192744e-05,\n",
       "       8.5184656e-06, 3.2670468e-05, 4.6235167e-05, 3.1022919e-05,\n",
       "       7.9004949e-06, 5.2579835e-06, 1.3037030e-04, 3.1045915e-05,\n",
       "       1.8234485e-04, 1.2727622e-04, 2.0346586e-05, 6.6956221e-05,\n",
       "       8.0870332e-06, 7.1456211e-06, 1.1010948e-05, 5.2728724e-06,\n",
       "       2.0535099e-06, 4.5922283e-05], dtype=float32)"
      ]
     },
     "execution_count": 205,
     "metadata": {},
     "output_type": "execute_result"
    }
   ],
   "source": [
    "predictions = model_norm.predict(x_test)\n",
    "predictions[0]"
   ]
  },
  {
   "cell_type": "code",
   "execution_count": 206,
   "metadata": {},
   "outputs": [
    {
     "data": {
      "text/plain": [
       "1.0000001"
      ]
     },
     "execution_count": 206,
     "metadata": {},
     "output_type": "execute_result"
    }
   ],
   "source": [
    "np.sum(predictions[0])"
   ]
  },
  {
   "cell_type": "code",
   "execution_count": 207,
   "metadata": {},
   "outputs": [
    {
     "data": {
      "text/plain": [
       "3"
      ]
     },
     "execution_count": 207,
     "metadata": {},
     "output_type": "execute_result"
    }
   ],
   "source": [
    "np.argmax(predictions[0])"
   ]
  }
 ],
 "metadata": {
  "kernelspec": {
   "display_name": ".venv",
   "language": "python",
   "name": "python3"
  },
  "language_info": {
   "codemirror_mode": {
    "name": "ipython",
    "version": 3
   },
   "file_extension": ".py",
   "mimetype": "text/x-python",
   "name": "python",
   "nbconvert_exporter": "python",
   "pygments_lexer": "ipython3",
   "version": "3.10.12"
  }
 },
 "nbformat": 4,
 "nbformat_minor": 2
}
