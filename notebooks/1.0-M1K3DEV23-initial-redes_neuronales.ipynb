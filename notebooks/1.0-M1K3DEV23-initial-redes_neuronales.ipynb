{
 "cells": [
  {
   "cell_type": "code",
   "execution_count": 2,
   "metadata": {},
   "outputs": [
    {
     "name": "stderr",
     "output_type": "stream",
     "text": [
      "2024-01-12 17:43:04.989479: I tensorflow/core/platform/cpu_feature_guard.cc:182] This TensorFlow binary is optimized to use available CPU instructions in performance-critical operations.\n",
      "To enable the following instructions: AVX2 FMA, in other operations, rebuild TensorFlow with the appropriate compiler flags.\n"
     ]
    }
   ],
   "source": [
    "# Visualizacion de datos\n",
    "import matplotlib.pylab as plt\n",
    "import numpy as np\n",
    "# Modelo de redes neuronales\n",
    "from keras import layers, models\n",
    "from keras.datasets import mnist\n",
    "\n",
    "# One-Encoding\n",
    "from keras.utils import to_categorical"
   ]
  },
  {
   "cell_type": "code",
   "execution_count": 3,
   "metadata": {},
   "outputs": [],
   "source": [
    "(train_data, train_labels), (test_data, test_labels) = mnist.load_data()"
   ]
  },
  {
   "cell_type": "markdown",
   "metadata": {},
   "source": [
    "- **Train data**: Contiene datos de entrada para entrenar a tu modelo.\n",
    "\n",
    "- **Train labels**: Contiene la clasificación de cada uno de los datos de Train data.\n",
    "\n",
    "- **Test data**: Es una partición de datos con características similares a `Train data` pero que el modelo de DL NO conoció durante el proceso de entrenamiento.\n",
    "\n",
    "- **Test labels**: Corresponde a la clasificación de los datos de Test data."
   ]
  },
  {
   "cell_type": "code",
   "execution_count": 4,
   "metadata": {},
   "outputs": [
    {
     "data": {
      "text/plain": [
       "(60000, 28, 28)"
      ]
     },
     "execution_count": 4,
     "metadata": {},
     "output_type": "execute_result"
    }
   ],
   "source": [
    "train_data.shape"
   ]
  },
  {
   "cell_type": "markdown",
   "metadata": {},
   "source": [
    "Podemos observar que nuestros datos de entrenamiento constan de un conjunto de *60,000* muestras de imágenes de 28x28, mientras que el conjunto de testing es de *10,000* muestras. Podemos observar que tanto en train como test los datos en este caso imágenes tienen las mismas dimensiones. Adicionalmente, vemos como las **labels** de ambos conjuntos son arreglos unidimencionales, pues solamente guardan la etiqueta con el nombre de la clase, en este caso un número."
   ]
  },
  {
   "cell_type": "code",
   "execution_count": 5,
   "metadata": {},
   "outputs": [
    {
     "data": {
      "text/plain": [
       "<matplotlib.image.AxesImage at 0x7fb12497db40>"
      ]
     },
     "execution_count": 5,
     "metadata": {},
     "output_type": "execute_result"
    },
    {
     "data": {
      "image/png": "[encoded data removed]",
      "text/plain": [
       "<Figure size 640x480 with 1 Axes>"
      ]
     },
     "metadata": {},
     "output_type": "display_data"
    }
   ],
   "source": [
    "plt.imshow(train_data[55])"
   ]
  },
  {
   "cell_type": "code",
   "execution_count": 6,
   "metadata": {},
   "outputs": [
    {
     "data": {
      "text/plain": [
       "8"
      ]
     },
     "execution_count": 6,
     "metadata": {},
     "output_type": "execute_result"
    }
   ],
   "source": [
    "train_labels[55]"
   ]
  },
  {
   "cell_type": "markdown",
   "metadata": {},
   "source": [
    "## Crear un simple Modelo Secuencial de 1 capa y Multiples Salidas\n",
    "\n",
    "Crear un simple Modelo Secuencial de 1 capa y Multiples Salidas\n",
    "En este preciso momento del curso NO nos enfocaremos en dar mucha información de qué significa cada uno de los parámetros del objeto `model` de la clase `models.Sequential()` pero es un ejemplo ilustrativo de lo simple que puede ser crear modelos de DL con keras."
   ]
  },
  {
   "cell_type": "code",
   "execution_count": 7,
   "metadata": {},
   "outputs": [],
   "source": [
    "# Instancias nuestro primer modelo\n",
    "\n",
    "model = models.Sequential()\n",
    "\n",
    "# Agregando capas\n",
    "model.add(layers.Dense(512, activation='relu', input_shape=(28*28,)))\n",
    "# Otra capa a nuestra red neuronal\n",
    "model.add(layers.Dense(10, activation='softmax'))"
   ]
  },
  {
   "cell_type": "markdown",
   "metadata": {},
   "source": [
    "## Compilar el modelo con ciertos parámetros\n",
    "\n",
    "En este momento del curso, lo único que debemos entender es lo siguiente: input_shape(28*28, ) Indica que la entrada de la red neuronal tendré 728 neuronas, una para cada pixel de la imagen. layerse.Dense(10, ) El 10 es debido a que queremos que la última capa, la de clasificación clasifique entre 10 posibles clases, los números del (0,9)."
   ]
  },
  {
   "cell_type": "code",
   "execution_count": 8,
   "metadata": {},
   "outputs": [],
   "source": [
    "# Compilar nuestra red neuronal y con optimizador\n",
    "model.compile(\n",
    "    optimizer='rmsprop',\n",
    "    loss='categorical_crossentropy',\n",
    "    metrics='accuracy'\n",
    ")"
   ]
  },
  {
   "cell_type": "markdown",
   "metadata": {},
   "source": [
    "A pesar de que ya hemos creado la arquitectura del modelo de Deep Learning, aún es necesario indicar ciertos parámetros que modificaran la forma en que la red neuronal es entrenada, estros parámetros son: optimizer, loss, metrics. Estos conceptos serán definidos más adelante.\n",
    "\n",
    "- **optimizer**: Es el algoritmo matemático que será utilizado para cambiar la distribución de pesos y bias de las neuronas. Este es el punto donde la red \"va aprendiendo iteración tras iteración\"\n",
    "\n",
    "- **loss**: Es la forma que tenemos para definir que tan lejos o cerca estamos de nuestro objetivo a optimizar.\n",
    "\n",
    "- **metrics**: Nos permite evaluar el rendimiento de nuestra red tanto en el training set como en el testing set."
   ]
  },
  {
   "cell_type": "markdown",
   "metadata": {},
   "source": [
    "## Ver el resumen de la configuración de nuestro Modelo"
   ]
  },
  {
   "cell_type": "code",
   "execution_count": 9,
   "metadata": {},
   "outputs": [
    {
     "name": "stdout",
     "output_type": "stream",
     "text": [
      "Model: \"sequential\"\n",
      "_________________________________________________________________\n",
      " Layer (type)                Output Shape              Param #   \n",
      "=================================================================\n",
      " dense (Dense)               (None, 512)               401920    \n",
      "                                                                 \n",
      " dense_1 (Dense)             (None, 10)                5130      \n",
      "                                                                 \n",
      "=================================================================\n",
      "Total params: 407050 (1.55 MB)\n",
      "Trainable params: 407050 (1.55 MB)\n",
      "Non-trainable params: 0 (0.00 Byte)\n",
      "_________________________________________________________________\n"
     ]
    }
   ],
   "source": [
    "# Resumen de la red neuronal\n",
    "model.summary()"
   ]
  },
  {
   "cell_type": "markdown",
   "metadata": {},
   "source": [
    "## Modificar los datos de entrenamiento y validación para hacerlos más manejables por el modelo de DL"
   ]
  },
  {
   "cell_type": "code",
   "execution_count": 10,
   "metadata": {},
   "outputs": [],
   "source": [
    "# Hacer modificacion a la data\n",
    "\n",
    "X_train = train_data.reshape((60_000, 28 * 28))\n",
    "X_train = X_train.astype('float32') / 255\n",
    "\n",
    "# Test\n",
    "X_test = test_data.reshape((10_000, 28 * 28))\n",
    "X_test = X_test.astype('float32') / 255"
   ]
  },
  {
   "cell_type": "code",
   "execution_count": 11,
   "metadata": {},
   "outputs": [
    {
     "data": {
      "text/plain": [
       "(784,)"
      ]
     },
     "execution_count": 11,
     "metadata": {},
     "output_type": "execute_result"
    }
   ],
   "source": [
    "X_train[0].shape"
   ]
  },
  {
   "cell_type": "code",
   "execution_count": 12,
   "metadata": {},
   "outputs": [],
   "source": [
    "# Hacer transformacion a los labels de One-Encoding\n",
    "y_train = to_categorical(train_labels)\n",
    "y_test = to_categorical(test_labels)"
   ]
  },
  {
   "cell_type": "code",
   "execution_count": 13,
   "metadata": {},
   "outputs": [
    {
     "data": {
      "text/plain": [
       "5"
      ]
     },
     "execution_count": 13,
     "metadata": {},
     "output_type": "execute_result"
    }
   ],
   "source": [
    "train_labels[0]"
   ]
  },
  {
   "cell_type": "code",
   "execution_count": 14,
   "metadata": {},
   "outputs": [
    {
     "data": {
      "text/plain": [
       "array([0., 0., 0., 0., 0., 1., 0., 0., 0., 0.], dtype=float32)"
      ]
     },
     "execution_count": 14,
     "metadata": {},
     "output_type": "execute_result"
    }
   ],
   "source": [
    "y_train[0]"
   ]
  },
  {
   "cell_type": "markdown",
   "metadata": {},
   "source": [
    "## Entrenando el modelo de tu primer red neuronal"
   ]
  },
  {
   "cell_type": "markdown",
   "metadata": {},
   "source": [
    "Ahora que nuestros datos de entrenamiento y testing tienen un mejor formato, podemos entrenar a nuestra red neuronal. Lo único que cabe destacar aquí por el momento es que: **epochs:** es la cantidad de iteraciones que queremos que el modelo pueda realizar para irse optimizando. **batch_size:** de forma muy sencilla, es que como el dataset es muy grande 60,000 es más conveniente irse entrenando de forma paralela con conjuntos más pequeños de 128 datos que los *60,000* al mismo tiempo."
   ]
  },
  {
   "cell_type": "code",
   "execution_count": 15,
   "metadata": {},
   "outputs": [
    {
     "name": "stdout",
     "output_type": "stream",
     "text": [
      "Epoch 1/5\n",
      "469/469 [==============================] - 2s 3ms/step - loss: 0.2637 - accuracy: 0.9243\n",
      "Epoch 2/5\n",
      "469/469 [==============================] - 1s 3ms/step - loss: 0.1086 - accuracy: 0.9680\n",
      "Epoch 3/5\n",
      "469/469 [==============================] - 1s 3ms/step - loss: 0.0713 - accuracy: 0.9787\n",
      "Epoch 4/5\n",
      "469/469 [==============================] - 1s 3ms/step - loss: 0.0523 - accuracy: 0.9840\n",
      "Epoch 5/5\n",
      "469/469 [==============================] - 1s 3ms/step - loss: 0.0394 - accuracy: 0.9884\n"
     ]
    },
    {
     "data": {
      "text/plain": [
       "<keras.src.callbacks.History at 0x7fb11c333190>"
      ]
     },
     "execution_count": 15,
     "metadata": {},
     "output_type": "execute_result"
    }
   ],
   "source": [
    "model.fit(X_train, y_train, epochs=5, batch_size=128)"
   ]
  },
  {
   "cell_type": "markdown",
   "metadata": {},
   "source": [
    "## Evaluar el rendimiento de nuestra red neuronal con datos de validación"
   ]
  },
  {
   "cell_type": "markdown",
   "metadata": {},
   "source": [
    "Ahora que hemos visto que el accuracy de nuestro modelo sobre los datos de entrenamiento es de 0.9884 vamos a ponerlo a prueba con los datos de testing que NO ha visto mientras era entrenado."
   ]
  },
  {
   "cell_type": "code",
   "execution_count": 16,
   "metadata": {},
   "outputs": [
    {
     "name": "stdout",
     "output_type": "stream",
     "text": [
      "313/313 [==============================] - 0s 961us/step - loss: 0.0675 - accuracy: 0.9780\n"
     ]
    },
    {
     "data": {
      "text/plain": [
       "[0.06745161861181259, 0.9779999852180481]"
      ]
     },
     "execution_count": 16,
     "metadata": {},
     "output_type": "execute_result"
    }
   ],
   "source": [
    "model.evaluate(X_test, y_test)"
   ]
  },
  {
   "cell_type": "markdown",
   "metadata": {},
   "source": [
    "Excelente nuestro modelo ha obtenido **0.9773** puntos de accuracy sobre un dataset desconocido."
   ]
  },
  {
   "cell_type": "code",
   "execution_count": 17,
   "metadata": {},
   "outputs": [
    {
     "data": {
      "image/png": "[encoded data removed]",
      "text/plain": [
       "<Figure size 1000x1000 with 1 Axes>"
      ]
     },
     "metadata": {},
     "output_type": "display_data"
    }
   ],
   "source": [
    "# Selecciona un numero al azar dentro de x_test\n",
    "index = 0\n",
    "\n",
    "plt.figure(figsize=(10, 10))\n",
    "d_image = X_test[index]\n",
    "plt.imshow(d_image.reshape(28, 28))\n",
    "# Para verlo como array\n",
    "# plt.title(y_test[index])\n",
    "\n",
    "# Para ver el numero como tal\n",
    "plt.title(np.argmax(y_test[index], axis=-1))\n",
    "\n",
    "plt.axis(False)\n",
    "plt.show()"
   ]
  },
  {
   "cell_type": "code",
   "execution_count": 18,
   "metadata": {},
   "outputs": [
    {
     "name": "stdout",
     "output_type": "stream",
     "text": [
      "1/1 [==============================] - 0s 49ms/step\n",
      "El numero es:  [7] cierto?\n"
     ]
    }
   ],
   "source": [
    "prediccion_array = model.predict(X_test[index].reshape(1, 28*28))\n",
    "\n",
    "print(\"El numero es: \", np.argmax(prediccion_array, axis=-1), 'cierto?')"
   ]
  },
  {
   "cell_type": "markdown",
   "metadata": {},
   "source": [
    "## Guardar el modelo para usarlo después\n",
    "\n",
    "Finalmente como paso extra, podemos exportar el modelo con todos los pesos, arquitectura y su compilación para cargar después y ponerlo a clasificar lo que nosotros queramos."
   ]
  },
  {
   "cell_type": "code",
   "execution_count": 19,
   "metadata": {},
   "outputs": [
    {
     "name": "stdout",
     "output_type": "stream",
     "text": [
      "INFO:tensorflow:Assets written to: .././src/models/predict_model/assets\n"
     ]
    },
    {
     "name": "stderr",
     "output_type": "stream",
     "text": [
      "INFO:tensorflow:Assets written to: .././src/models/predict_model/assets\n"
     ]
    }
   ],
   "source": [
    "model.save('.././src/models/predict_model/')"
   ]
  }
 ],
 "metadata": {
  "kernelspec": {
   "display_name": "template",
   "language": "python",
   "name": "python3"
  },
  "language_info": {
   "codemirror_mode": {
    "name": "ipython",
    "version": 3
   },
   "file_extension": ".py",
   "mimetype": "text/x-python",
   "name": "python",
   "nbconvert_exporter": "python",
   "pygments_lexer": "ipython3",
   "version": "3.10.12"
  }
 },
 "nbformat": 4,
 "nbformat_minor": 2
}
