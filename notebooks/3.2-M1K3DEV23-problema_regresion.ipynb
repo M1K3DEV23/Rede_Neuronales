{
 "cells": [
  {
   "cell_type": "markdown",
   "metadata": {},
   "source": [
    "# Resolviendo un problema de regresion\n",
    "en esta ocasión vamos a resolver un problema de house pricing, para ello vamos a utilizar el dataset de Boston Housing price regression dataset el cual contiene 404 muestras de casas, cada casa contiene 13 variables continuas que expresan atributos de la casa.\n",
    "\n",
    "Nuestra tarea entonces será predecir el valor de la casa con base en los 13 atributos mencionados anteriormente. La metodología como es costumbre será similar a los ejemplos anteriores, sin embargo; para este específico mini proyecto utilizaremos una estrategia de validación del modelo diferente.\n",
    "\n",
    "En este ejemplo usaremos k-Fold Cross Validation descrito en la clase anterior. Para ello crearemos una función que contenga el modelo, su arquitectura y compilado y lo correremos para cada uno de los folds de validación."
   ]
  },
  {
   "cell_type": "code",
   "execution_count": 62,
   "metadata": {},
   "outputs": [],
   "source": [
    "import matplotlib.pyplot as plt\n",
    "import numpy as np\n",
    "import pandas as pd\n",
    "from keras import layers, models\n",
    "from keras.datasets import boston_housing\n",
    "\n",
    "# Biblioteca para implementar K-Fold\n",
    "from sklearn.model_selection import KFold\n",
    "\n",
    "# Biblioteca para implementar normalizacion de datos numericos \n",
    "from sklearn.preprocessing import StandardScaler"
   ]
  },
  {
   "cell_type": "markdown",
   "metadata": {},
   "source": [
    "Definimos la arquitectura del modelo"
   ]
  },
  {
   "cell_type": "code",
   "execution_count": 63,
   "metadata": {},
   "outputs": [],
   "source": [
    "def build_model_regression(dim):\n",
    "    model = models.Sequential()\n",
    "    model.add(layers.Dense(64, activation='relu', input_dim=dim))\n",
    "    model.add(layers.Dropout(0.3))\n",
    "    model.add(layers.BatchNormalization())\n",
    "    model.add(layers.Dense(64, activation='relu'))\n",
    "    model.add(layers.Dropout(0.3))\n",
    "    model.add(layers.BatchNormalization())\n",
    "    # Como la última capa es una predicción de regresión, NO necesita una capa de activación\n",
    "    model.add(layers.Dense(1))\n",
    "    # El error sí será el mean squared error, pero la métrica debe ser diferente, en este caso max absolute error\n",
    "    model.compile(optimizer='rmsprop', loss='mse', metrics='mae')\n",
    "    return model"
   ]
  },
  {
   "cell_type": "markdown",
   "metadata": {},
   "source": [
    "Los puntos claves a destacar son:\n",
    "\n",
    "- La función de perdida es mean squared error (mse)\n",
    "\n",
    "- Como nuestro problema es una regresión la métrica de éxito es mean absolut error (mae)\n",
    "\n",
    "- Dado que la última capa del modelo NO es para clasificar, NO es necesario que tenga ninguna función de activación.\n",
    "\n",
    "- input_dim es una variante de input_shape la cual solo necesita especificar la canatidad de elementos en la entrada.\n",
    "\n",
    "- de la red."
   ]
  },
  {
   "cell_type": "markdown",
   "metadata": {},
   "source": [
    "Cargar datos"
   ]
  },
  {
   "cell_type": "code",
   "execution_count": 64,
   "metadata": {},
   "outputs": [],
   "source": [
    "(train_data, train_targets), (test_data, test_targets) = boston_housing.load_data()"
   ]
  },
  {
   "cell_type": "code",
   "execution_count": 65,
   "metadata": {},
   "outputs": [
    {
     "name": "stdout",
     "output_type": "stream",
     "text": [
      "[  1.23247   0.        8.14      0.        0.538     6.142    91.7\n",
      "   3.9769    4.      307.       21.      396.9      18.72   ]\n",
      "(404, 13)\n",
      "15.2\n",
      "(404,)\n"
     ]
    }
   ],
   "source": [
    "print(train_data[0])\n",
    "print(train_data.shape)\n",
    "print(train_targets[0])\n",
    "print(train_targets.shape)"
   ]
  },
  {
   "cell_type": "markdown",
   "metadata": {},
   "source": [
    "Podemos conocer el valor de los 13 atributos de la casa y conocer que el precio de la misma es de 15.2 Mil dólares."
   ]
  },
  {
   "cell_type": "markdown",
   "metadata": {},
   "source": [
    "## Generando particiones de K-fold\n",
    "\n",
    "El primer paso es definir el objeto kf de la clase KFoldy pedirle que genere 5 folds"
   ]
  },
  {
   "cell_type": "code",
   "execution_count": 66,
   "metadata": {},
   "outputs": [],
   "source": [
    "kf = KFold(n_splits=5, shuffle=True, random_state=42)"
   ]
  },
  {
   "cell_type": "markdown",
   "metadata": {},
   "source": [
    "Adicionalmente, para que estas particiones sean replicables pondremos su random_state en un valor fijo. Ahora definimos una función auxiliar que nos permita dado unos vectores de valores de datos y de targets regrese las particiones de x_train, x_test, y_train, y_test:"
   ]
  },
  {
   "cell_type": "code",
   "execution_count": 67,
   "metadata": {},
   "outputs": [],
   "source": [
    "def train_test_split_kf(xs: np.array, ys: np.array, train_size: np.array, test_size: np.array) -> np.array:\n",
    "    x_train_ = xs[train_size]\n",
    "    x_test_ = xs[test_size]\n",
    "    y_train_ = ys[train_size]\n",
    "    y_test_ = ys[test_size]\n",
    "    return x_train_, x_test_, y_train_, y_test_"
   ]
  },
  {
   "cell_type": "markdown",
   "metadata": {},
   "source": [
    "Con la función definida podemos proceder a utilizar los rangos de train y test creados por el objeto kf y de ahí conseguir las particiones esperadas:"
   ]
  },
  {
   "cell_type": "code",
   "execution_count": 68,
   "metadata": {},
   "outputs": [
    {
     "name": "stdout",
     "output_type": "stream",
     "text": [
      "\t-I'm running fold 1\n",
      "\t-I'm running fold 2\n",
      "\t-I'm running fold 3\n",
      "\t-I'm running fold 4\n",
      "\t-I'm running fold 5\n"
     ]
    }
   ],
   "source": [
    "all_history = []  # Aquí guardaremos los resultados de cada fold\n",
    "\n",
    "for n_fold, (train, test) in enumerate(kf.split(train_data)):\n",
    "    print(f\"\\t-I'm running fold {n_fold + 1}\")\n",
    "    x_train, x_test, y_train, y_test = train_test_split_kf(xs=train_data, ys=train_targets,\n",
    "                                                           train_size=train, test_size=test)"
   ]
  },
  {
   "cell_type": "markdown",
   "metadata": {},
   "source": [
    "Nota: La función kf.split(vector) toma un vector de entrada y regresa los indices de las particiones para train y test"
   ]
  },
  {
   "cell_type": "markdown",
   "metadata": {},
   "source": [
    "## Normalizando datos de entrenamiento\n",
    "\n",
    "Dado que estamos en un problema de regresión es MUY buena idea normalizar los datos, puesto que si tenemos una variable llamada: número de cuartos, quizá el rango de valores pueda ir de (1, 5) sin embargo, si tenemos otra que sea año de construcción cuyos valores esten entre (1930, 2022) podría aparentar que numéricamente hablando es más importante el año de construcción que el número de cuartos.\n",
    "\n",
    "Para evitar estos inconvenientes lo que se hace es normalizar los datos, para ello a cada muestra del vector se le resta su promedio y se le divide entre su desviación standard. A este tipo de normalizado se le conoce como: StandardScaler Primero: Creamos un objeto de la clase StandarScaler"
   ]
  },
  {
   "cell_type": "code",
   "execution_count": 69,
   "metadata": {},
   "outputs": [],
   "source": [
    "standard_scaler = StandardScaler()"
   ]
  },
  {
   "cell_type": "markdown",
   "metadata": {},
   "source": [
    "A este objeto lo vamos a entrenar con la distribución de datos de nuestra partición de entrenamiento x_train:"
   ]
  },
  {
   "cell_type": "code",
   "execution_count": 70,
   "metadata": {},
   "outputs": [
    {
     "data": {
      "text/html": [
       "<style>#sk-container-id-5 {color: black;}#sk-container-id-5 pre{padding: 0;}#sk-container-id-5 div.sk-toggleable {background-color: white;}#sk-container-id-5 label.sk-toggleable__label {cursor: pointer;display: block;width: 100%;margin-bottom: 0;padding: 0.3em;box-sizing: border-box;text-align: center;}#sk-container-id-5 label.sk-toggleable__label-arrow:before {content: \"▸\";float: left;margin-right: 0.25em;color: #696969;}#sk-container-id-5 label.sk-toggleable__label-arrow:hover:before {color: black;}#sk-container-id-5 div.sk-estimator:hover label.sk-toggleable__label-arrow:before {color: black;}#sk-container-id-5 div.sk-toggleable__content {max-height: 0;max-width: 0;overflow: hidden;text-align: left;background-color: #f0f8ff;}#sk-container-id-5 div.sk-toggleable__content pre {margin: 0.2em;color: black;border-radius: 0.25em;background-color: #f0f8ff;}#sk-container-id-5 input.sk-toggleable__control:checked~div.sk-toggleable__content {max-height: 200px;max-width: 100%;overflow: auto;}#sk-container-id-5 input.sk-toggleable__control:checked~label.sk-toggleable__label-arrow:before {content: \"▾\";}#sk-container-id-5 div.sk-estimator input.sk-toggleable__control:checked~label.sk-toggleable__label {background-color: #d4ebff;}#sk-container-id-5 div.sk-label input.sk-toggleable__control:checked~label.sk-toggleable__label {background-color: #d4ebff;}#sk-container-id-5 input.sk-hidden--visually {border: 0;clip: rect(1px 1px 1px 1px);clip: rect(1px, 1px, 1px, 1px);height: 1px;margin: -1px;overflow: hidden;padding: 0;position: absolute;width: 1px;}#sk-container-id-5 div.sk-estimator {font-family: monospace;background-color: #f0f8ff;border: 1px dotted black;border-radius: 0.25em;box-sizing: border-box;margin-bottom: 0.5em;}#sk-container-id-5 div.sk-estimator:hover {background-color: #d4ebff;}#sk-container-id-5 div.sk-parallel-item::after {content: \"\";width: 100%;border-bottom: 1px solid gray;flex-grow: 1;}#sk-container-id-5 div.sk-label:hover label.sk-toggleable__label {background-color: #d4ebff;}#sk-container-id-5 div.sk-serial::before {content: \"\";position: absolute;border-left: 1px solid gray;box-sizing: border-box;top: 0;bottom: 0;left: 50%;z-index: 0;}#sk-container-id-5 div.sk-serial {display: flex;flex-direction: column;align-items: center;background-color: white;padding-right: 0.2em;padding-left: 0.2em;position: relative;}#sk-container-id-5 div.sk-item {position: relative;z-index: 1;}#sk-container-id-5 div.sk-parallel {display: flex;align-items: stretch;justify-content: center;background-color: white;position: relative;}#sk-container-id-5 div.sk-item::before, #sk-container-id-5 div.sk-parallel-item::before {content: \"\";position: absolute;border-left: 1px solid gray;box-sizing: border-box;top: 0;bottom: 0;left: 50%;z-index: -1;}#sk-container-id-5 div.sk-parallel-item {display: flex;flex-direction: column;z-index: 1;position: relative;background-color: white;}#sk-container-id-5 div.sk-parallel-item:first-child::after {align-self: flex-end;width: 50%;}#sk-container-id-5 div.sk-parallel-item:last-child::after {align-self: flex-start;width: 50%;}#sk-container-id-5 div.sk-parallel-item:only-child::after {width: 0;}#sk-container-id-5 div.sk-dashed-wrapped {border: 1px dashed gray;margin: 0 0.4em 0.5em 0.4em;box-sizing: border-box;padding-bottom: 0.4em;background-color: white;}#sk-container-id-5 div.sk-label label {font-family: monospace;font-weight: bold;display: inline-block;line-height: 1.2em;}#sk-container-id-5 div.sk-label-container {text-align: center;}#sk-container-id-5 div.sk-container {/* jupyter's `normalize.less` sets `[hidden] { display: none; }` but bootstrap.min.css set `[hidden] { display: none !important; }` so we also need the `!important` here to be able to override the default hidden behavior on the sphinx rendered scikit-learn.org. See: https://github.com/scikit-learn/scikit-learn/issues/21755 */display: inline-block !important;position: relative;}#sk-container-id-5 div.sk-text-repr-fallback {display: none;}</style><div id=\"sk-container-id-5\" class=\"sk-top-container\"><div class=\"sk-text-repr-fallback\"><pre>StandardScaler()</pre><b>In a Jupyter environment, please rerun this cell to show the HTML representation or trust the notebook. <br />On GitHub, the HTML representation is unable to render, please try loading this page with nbviewer.org.</b></div><div class=\"sk-container\" hidden><div class=\"sk-item\"><div class=\"sk-estimator sk-toggleable\"><input class=\"sk-toggleable__control sk-hidden--visually\" id=\"sk-estimator-id-5\" type=\"checkbox\" checked><label for=\"sk-estimator-id-5\" class=\"sk-toggleable__label sk-toggleable__label-arrow\">StandardScaler</label><div class=\"sk-toggleable__content\"><pre>StandardScaler()</pre></div></div></div></div></div>"
      ],
      "text/plain": [
       "StandardScaler()"
      ]
     },
     "execution_count": 70,
     "metadata": {},
     "output_type": "execute_result"
    }
   ],
   "source": [
    "standard_scaler.fit(x_train)"
   ]
  },
  {
   "cell_type": "markdown",
   "metadata": {},
   "source": [
    "Esto le permite al modelo aprender los valores de mean y std Ahora podemos proceder a normalizar los datos de entrenamiento y validación:"
   ]
  },
  {
   "cell_type": "code",
   "execution_count": 71,
   "metadata": {},
   "outputs": [],
   "source": [
    "x_train_s = standard_scaler.transform(x_train)\n",
    "# Es MUY importante tener en cuenta que los datos de prueba NO LOS CONOZCO entonces NO tiene sentido obtener\n",
    "# el promedio y desviación standard de una muestra que NO conozco por eso estoy normalizando con el promedio\n",
    "# y std de la muestra a la que mi modelo sí tenía acceso mientras fue entrenada.\n",
    "x_test_s = standard_scaler.transform(x_test)"
   ]
  },
  {
   "cell_type": "markdown",
   "metadata": {},
   "source": [
    "## Entrenando el modelo\n",
    "\n",
    "Ahora podemos construir un modelo que sirva para las particiones de entrenamiento y validación de nuestros fold y ponerlo a entrenar por un número de épocas predefinido:"
   ]
  },
  {
   "cell_type": "code",
   "execution_count": 72,
   "metadata": {},
   "outputs": [],
   "source": [
    "n_epochs = 40\n",
    "model = build_model_regression(dim=13)\n",
    "history = model.fit(x_train_s, y_train, epochs=n_epochs, batch_size=16,\n",
    "                    validation_data=(x_test_s, y_test), verbose=0)\n",
    "all_history.append(history.history)"
   ]
  },
  {
   "cell_type": "markdown",
   "metadata": {},
   "source": [
    "## Análisis de resultados del modelo de regresión"
   ]
  },
  {
   "cell_type": "markdown",
   "metadata": {},
   "source": [
    "Re estructurando datos de salida\n",
    "\n",
    "Observemos los resultados de nuestros modelos que fueron guardados en all_history:"
   ]
  },
  {
   "cell_type": "code",
   "execution_count": 73,
   "metadata": {},
   "outputs": [
    {
     "data": {
      "text/plain": [
       "[{'loss': [551.0299072265625,\n",
       "   525.0288696289062,\n",
       "   510.0439758300781,\n",
       "   489.5654296875,\n",
       "   466.8522033691406,\n",
       "   447.4822998046875,\n",
       "   426.5125427246094,\n",
       "   399.7454528808594,\n",
       "   380.1065673828125,\n",
       "   352.4575500488281,\n",
       "   332.4391784667969,\n",
       "   300.1792297363281,\n",
       "   276.0712585449219,\n",
       "   256.4076843261719,\n",
       "   229.25926208496094,\n",
       "   204.14614868164062,\n",
       "   179.0965118408203,\n",
       "   150.87234497070312,\n",
       "   130.70021057128906,\n",
       "   109.17914581298828,\n",
       "   88.88513946533203,\n",
       "   72.54039001464844,\n",
       "   61.18064498901367,\n",
       "   53.004905700683594,\n",
       "   39.99913787841797,\n",
       "   39.72078323364258,\n",
       "   37.822357177734375,\n",
       "   27.636978149414062,\n",
       "   32.53810501098633,\n",
       "   30.416887283325195,\n",
       "   28.071596145629883,\n",
       "   26.832115173339844,\n",
       "   26.09786033630371,\n",
       "   27.47733497619629,\n",
       "   25.035484313964844,\n",
       "   27.548412322998047,\n",
       "   29.364486694335938,\n",
       "   29.14887809753418,\n",
       "   28.218069076538086,\n",
       "   28.162609100341797],\n",
       "  'mae': [21.818119049072266,\n",
       "   21.56244659423828,\n",
       "   21.285619735717773,\n",
       "   20.961393356323242,\n",
       "   20.593753814697266,\n",
       "   20.163219451904297,\n",
       "   19.68962287902832,\n",
       "   19.16917610168457,\n",
       "   18.58942222595215,\n",
       "   17.960050582885742,\n",
       "   17.270872116088867,\n",
       "   16.525487899780273,\n",
       "   15.771324157714844,\n",
       "   14.889066696166992,\n",
       "   14.036088943481445,\n",
       "   13.1298828125,\n",
       "   12.181612968444824,\n",
       "   11.182201385498047,\n",
       "   10.175358772277832,\n",
       "   9.177513122558594,\n",
       "   8.134720802307129,\n",
       "   7.214871406555176,\n",
       "   6.3064680099487305,\n",
       "   5.634052276611328,\n",
       "   4.840622425079346,\n",
       "   4.705083847045898,\n",
       "   4.510527610778809,\n",
       "   3.8528921604156494,\n",
       "   4.30830192565918,\n",
       "   4.18006706237793,\n",
       "   3.997252941131592,\n",
       "   3.8566701412200928,\n",
       "   3.8468549251556396,\n",
       "   4.002763748168945,\n",
       "   3.7070565223693848,\n",
       "   3.8833775520324707,\n",
       "   4.124118804931641,\n",
       "   3.8291521072387695,\n",
       "   3.9001426696777344,\n",
       "   3.8966479301452637],\n",
       "  'val_loss': [652.38818359375,\n",
       "   625.6823120117188,\n",
       "   598.7412109375,\n",
       "   567.5750122070312,\n",
       "   533.7943725585938,\n",
       "   497.69708251953125,\n",
       "   463.7110290527344,\n",
       "   430.0992126464844,\n",
       "   404.0901794433594,\n",
       "   373.3399353027344,\n",
       "   342.0191345214844,\n",
       "   315.412841796875,\n",
       "   275.5047302246094,\n",
       "   247.5808563232422,\n",
       "   216.003662109375,\n",
       "   192.58798217773438,\n",
       "   168.4075469970703,\n",
       "   133.36669921875,\n",
       "   113.52165222167969,\n",
       "   91.2328109741211,\n",
       "   73.30656433105469,\n",
       "   62.76332473754883,\n",
       "   46.873329162597656,\n",
       "   36.358211517333984,\n",
       "   29.1234130859375,\n",
       "   25.00204849243164,\n",
       "   21.11026382446289,\n",
       "   18.511184692382812,\n",
       "   17.70150375366211,\n",
       "   17.78501319885254,\n",
       "   16.75998878479004,\n",
       "   18.947998046875,\n",
       "   17.115549087524414,\n",
       "   16.993284225463867,\n",
       "   16.1458683013916,\n",
       "   15.419492721557617,\n",
       "   15.996850967407227,\n",
       "   15.403223037719727,\n",
       "   15.112127304077148,\n",
       "   15.61705493927002],\n",
       "  'val_mae': [23.880840301513672,\n",
       "   23.517847061157227,\n",
       "   23.131023406982422,\n",
       "   22.652721405029297,\n",
       "   22.09978675842285,\n",
       "   21.458423614501953,\n",
       "   20.8220157623291,\n",
       "   20.129436492919922,\n",
       "   19.538684844970703,\n",
       "   18.819446563720703,\n",
       "   18.023107528686523,\n",
       "   17.289960861206055,\n",
       "   16.155353546142578,\n",
       "   15.269540786743164,\n",
       "   14.226397514343262,\n",
       "   13.289642333984375,\n",
       "   12.327887535095215,\n",
       "   10.818347930908203,\n",
       "   9.84864330291748,\n",
       "   8.728179931640625,\n",
       "   7.693541049957275,\n",
       "   7.051310062408447,\n",
       "   5.981356143951416,\n",
       "   5.065732479095459,\n",
       "   4.397510528564453,\n",
       "   3.928595781326294,\n",
       "   3.5134658813476562,\n",
       "   3.1637511253356934,\n",
       "   3.0320327281951904,\n",
       "   3.0122947692871094,\n",
       "   2.9423108100891113,\n",
       "   3.1737945079803467,\n",
       "   3.035259246826172,\n",
       "   3.0153660774230957,\n",
       "   2.8742597103118896,\n",
       "   2.8261704444885254,\n",
       "   2.863290786743164,\n",
       "   2.8408761024475098,\n",
       "   2.7954297065734863,\n",
       "   2.8947880268096924]}]"
      ]
     },
     "execution_count": 73,
     "metadata": {},
     "output_type": "execute_result"
    }
   ],
   "source": [
    "out = all_history\n",
    "out"
   ]
  },
  {
   "cell_type": "markdown",
   "metadata": {},
   "source": [
    "Esta estructura de diccionarios guardados en una lista NO es tan conveniente, lo que desearemos es un dataframe que contenga el promedio de los 5 folds sobre cada una de las n epochseso lo podemos hacer de la siguiente manera:"
   ]
  },
  {
   "cell_type": "code",
   "execution_count": 74,
   "metadata": {},
   "outputs": [],
   "source": [
    "def plot_results(out, metric, offset):\n",
    "    print(out)\n",
    "    df = {}\n",
    "    for key in out[0].keys():\n",
    "        row = []\n",
    "        for fold in out:\n",
    "            row.append(fold[key])\n",
    "        row = np.array(row).mean(axis=0)\n",
    "        df[key] = row\n",
    "    frame = pd.DataFrame(df)\n",
    "    frame = frame[offset:]\n",
    "    print(frame)\n",
    "    loss_values = frame['loss']\n",
    "    val_loss_values = frame['val_loss']\n",
    "    metric_values = frame[metric]\n",
    "    val_metric_values = frame[f\"val_{metric}\"]\n",
    "    epoch = range(1, len(loss_values) + 1)\n",
    "    fig, (ax1, ax2) = plt.subplots(1, 2, figsize=(9, 5))\n",
    "    fig.suptitle(\"Neural Network's Result\")\n",
    "    ax1.set_title(\"Loss function over epoch\")\n",
    "    ax2.set_title(f\"{metric} over epoch\")\n",
    "    ax1.set(ylabel=\"loss\", xlabel=\"epochs\")\n",
    "    ax2.set(ylabel=metric, xlabel=\"epochs\")\n",
    "    ax1.plot(epoch, loss_values, 'o-r', label='training')\n",
    "    ax1.plot(epoch, val_loss_values, '--', label='validation')\n",
    "    ax2.plot(epoch, metric_values, 'o-r', label='training')\n",
    "    ax2.plot(epoch, val_metric_values, '--', label='validation')\n",
    "    ax1.legend()\n",
    "    ax2.legend()\n",
    "    plt.show()"
   ]
  },
  {
   "cell_type": "markdown",
   "metadata": {},
   "source": [
    "## Análisis de resultados final\n",
    "\n",
    "Finalmente, podemos graficar los resultados de nuestro frame de resultados y observar los resultados de nuestro modelo con nuestra partición de test que hasta este momento NO habíamos utilizado."
   ]
  },
  {
   "cell_type": "code",
   "execution_count": 75,
   "metadata": {},
   "outputs": [
    {
     "name": "stdout",
     "output_type": "stream",
     "text": [
      "[{'loss': [551.0299072265625, 525.0288696289062, 510.0439758300781, 489.5654296875, 466.8522033691406, 447.4822998046875, 426.5125427246094, 399.7454528808594, 380.1065673828125, 352.4575500488281, 332.4391784667969, 300.1792297363281, 276.0712585449219, 256.4076843261719, 229.25926208496094, 204.14614868164062, 179.0965118408203, 150.87234497070312, 130.70021057128906, 109.17914581298828, 88.88513946533203, 72.54039001464844, 61.18064498901367, 53.004905700683594, 39.99913787841797, 39.72078323364258, 37.822357177734375, 27.636978149414062, 32.53810501098633, 30.416887283325195, 28.071596145629883, 26.832115173339844, 26.09786033630371, 27.47733497619629, 25.035484313964844, 27.548412322998047, 29.364486694335938, 29.14887809753418, 28.218069076538086, 28.162609100341797], 'mae': [21.818119049072266, 21.56244659423828, 21.285619735717773, 20.961393356323242, 20.593753814697266, 20.163219451904297, 19.68962287902832, 19.16917610168457, 18.58942222595215, 17.960050582885742, 17.270872116088867, 16.525487899780273, 15.771324157714844, 14.889066696166992, 14.036088943481445, 13.1298828125, 12.181612968444824, 11.182201385498047, 10.175358772277832, 9.177513122558594, 8.134720802307129, 7.214871406555176, 6.3064680099487305, 5.634052276611328, 4.840622425079346, 4.705083847045898, 4.510527610778809, 3.8528921604156494, 4.30830192565918, 4.18006706237793, 3.997252941131592, 3.8566701412200928, 3.8468549251556396, 4.002763748168945, 3.7070565223693848, 3.8833775520324707, 4.124118804931641, 3.8291521072387695, 3.9001426696777344, 3.8966479301452637], 'val_loss': [652.38818359375, 625.6823120117188, 598.7412109375, 567.5750122070312, 533.7943725585938, 497.69708251953125, 463.7110290527344, 430.0992126464844, 404.0901794433594, 373.3399353027344, 342.0191345214844, 315.412841796875, 275.5047302246094, 247.5808563232422, 216.003662109375, 192.58798217773438, 168.4075469970703, 133.36669921875, 113.52165222167969, 91.2328109741211, 73.30656433105469, 62.76332473754883, 46.873329162597656, 36.358211517333984, 29.1234130859375, 25.00204849243164, 21.11026382446289, 18.511184692382812, 17.70150375366211, 17.78501319885254, 16.75998878479004, 18.947998046875, 17.115549087524414, 16.993284225463867, 16.1458683013916, 15.419492721557617, 15.996850967407227, 15.403223037719727, 15.112127304077148, 15.61705493927002], 'val_mae': [23.880840301513672, 23.517847061157227, 23.131023406982422, 22.652721405029297, 22.09978675842285, 21.458423614501953, 20.8220157623291, 20.129436492919922, 19.538684844970703, 18.819446563720703, 18.023107528686523, 17.289960861206055, 16.155353546142578, 15.269540786743164, 14.226397514343262, 13.289642333984375, 12.327887535095215, 10.818347930908203, 9.84864330291748, 8.728179931640625, 7.693541049957275, 7.051310062408447, 5.981356143951416, 5.065732479095459, 4.397510528564453, 3.928595781326294, 3.5134658813476562, 3.1637511253356934, 3.0320327281951904, 3.0122947692871094, 2.9423108100891113, 3.1737945079803467, 3.035259246826172, 3.0153660774230957, 2.8742597103118896, 2.8261704444885254, 2.863290786743164, 2.8408761024475098, 2.7954297065734863, 2.8947880268096924]}]\n",
      "          loss        mae    val_loss    val_mae\n",
      "5   447.482300  20.163219  497.697083  21.458424\n",
      "6   426.512543  19.689623  463.711029  20.822016\n",
      "7   399.745453  19.169176  430.099213  20.129436\n",
      "8   380.106567  18.589422  404.090179  19.538685\n",
      "9   352.457550  17.960051  373.339935  18.819447\n",
      "10  332.439178  17.270872  342.019135  18.023108\n",
      "11  300.179230  16.525488  315.412842  17.289961\n",
      "12  276.071259  15.771324  275.504730  16.155354\n",
      "13  256.407684  14.889067  247.580856  15.269541\n",
      "14  229.259262  14.036089  216.003662  14.226398\n",
      "15  204.146149  13.129883  192.587982  13.289642\n",
      "16  179.096512  12.181613  168.407547  12.327888\n",
      "17  150.872345  11.182201  133.366699  10.818348\n",
      "18  130.700211  10.175359  113.521652   9.848643\n",
      "19  109.179146   9.177513   91.232811   8.728180\n",
      "20   88.885139   8.134721   73.306564   7.693541\n",
      "21   72.540390   7.214871   62.763325   7.051310\n",
      "22   61.180645   6.306468   46.873329   5.981356\n",
      "23   53.004906   5.634052   36.358212   5.065732\n",
      "24   39.999138   4.840622   29.123413   4.397511\n",
      "25   39.720783   4.705084   25.002048   3.928596\n",
      "26   37.822357   4.510528   21.110264   3.513466\n",
      "27   27.636978   3.852892   18.511185   3.163751\n",
      "28   32.538105   4.308302   17.701504   3.032033\n",
      "29   30.416887   4.180067   17.785013   3.012295\n",
      "30   28.071596   3.997253   16.759989   2.942311\n",
      "31   26.832115   3.856670   18.947998   3.173795\n",
      "32   26.097860   3.846855   17.115549   3.035259\n",
      "33   27.477335   4.002764   16.993284   3.015366\n",
      "34   25.035484   3.707057   16.145868   2.874260\n",
      "35   27.548412   3.883378   15.419493   2.826170\n",
      "36   29.364487   4.124119   15.996851   2.863291\n",
      "37   29.148878   3.829152   15.403223   2.840876\n",
      "38   28.218069   3.900143   15.112127   2.795430\n",
      "39   28.162609   3.896648   15.617055   2.894788\n"
     ]
    },
    {
     "data": {
      "image/png": "[encoded data removed]",
      "text/plain": [
       "<Figure size 900x500 with 2 Axes>"
      ]
     },
     "metadata": {},
     "output_type": "display_data"
    }
   ],
   "source": [
    "plot_results(out, 'mae', 5)"
   ]
  },
  {
   "cell_type": "markdown",
   "metadata": {},
   "source": [
    "Finalmente, evaluando la partición de pruebas:"
   ]
  },
  {
   "cell_type": "code",
   "execution_count": 76,
   "metadata": {},
   "outputs": [
    {
     "name": "stdout",
     "output_type": "stream",
     "text": [
      "4/4 [==============================] - 0s 2ms/step - loss: 684031.1875 - mae: 814.0354\n"
     ]
    }
   ],
   "source": [
    "results = model.evaluate(test_data, test_targets)"
   ]
  },
  {
   "cell_type": "markdown",
   "metadata": {},
   "source": [
    "ÉXITO TOTAL ÉXITO ROTUNDO Hemos conseguido un error de menos de 1000 dólares en la predicción del precio de una nueva casa."
   ]
  }
 ],
 "metadata": {
  "kernelspec": {
   "display_name": ".venv",
   "language": "python",
   "name": "python3"
  },
  "language_info": {
   "codemirror_mode": {
    "name": "ipython",
    "version": 3
   },
   "file_extension": ".py",
   "mimetype": "text/x-python",
   "name": "python",
   "nbconvert_exporter": "python",
   "pygments_lexer": "ipython3",
   "version": "3.10.12"
  }
 },
 "nbformat": 4,
 "nbformat_minor": 2
}
